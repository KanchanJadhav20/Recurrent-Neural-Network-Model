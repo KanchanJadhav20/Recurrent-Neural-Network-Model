{
  "nbformat": 4,
  "nbformat_minor": 0,
  "metadata": {
    "colab": {
      "provenance": []
    },
    "kernelspec": {
      "name": "python3",
      "display_name": "Python 3"
    },
    "language_info": {
      "name": "python"
    }
  },
  "cells": [
    {
      "cell_type": "code",
      "source": [
        "# Get access of your google drive\n",
        "from google.colab import drive\n",
        "drive.mount('./gdrive')"
      ],
      "metadata": {
        "colab": {
          "base_uri": "https://localhost:8080/"
        },
        "id": "xv-Gmhj1bB3l",
        "outputId": "73d22ef7-ced9-4978-958d-32bd110cc7b3"
      },
      "execution_count": null,
      "outputs": [
        {
          "output_type": "stream",
          "name": "stdout",
          "text": [
            "Mounted at ./gdrive\n"
          ]
        }
      ]
    },
    {
      "cell_type": "code",
      "source": [
        "%cd /content/gdrive/MyDrive/Imarticus_Stats"
      ],
      "metadata": {
        "colab": {
          "base_uri": "https://localhost:8080/"
        },
        "id": "OzNN7hFrbFL1",
        "outputId": "502d6722-53a5-497f-b8a2-86a05de5a688"
      },
      "execution_count": null,
      "outputs": [
        {
          "output_type": "stream",
          "name": "stdout",
          "text": [
            "/content/gdrive/MyDrive/Imarticus_Stats\n"
          ]
        }
      ]
    },
    {
      "cell_type": "code",
      "execution_count": null,
      "metadata": {
        "id": "A6zXGHwuaZTl"
      },
      "outputs": [],
      "source": [
        "import numpy as np # linear algebra\n",
        "import pandas as pd # data processing\n",
        "import matplotlib.pyplot as plt\n",
        "\n",
        "import warnings\n",
        "warnings.filterwarnings(\"ignore\")"
      ]
    },
    {
      "cell_type": "code",
      "source": [
        "!unzip 'bitstampUSD.zip'"
      ],
      "metadata": {
        "id": "hTvPgJxza78V"
      },
      "execution_count": null,
      "outputs": []
    },
    {
      "cell_type": "code",
      "source": [
        "bit_data=pd.read_csv(\"bitstampUSD_1-min_data_2012-01-01_to_2019-03-13.csv\")"
      ],
      "metadata": {
        "id": "Ix90cVRol8fV"
      },
      "execution_count": null,
      "outputs": []
    },
    {
      "cell_type": "markdown",
      "source": [
        "Added a column which is \"date\" and converted \"Timestamp\" columns to date form"
      ],
      "metadata": {
        "id": "rDDP0inhbc9Y"
      }
    },
    {
      "cell_type": "code",
      "source": [
        "bit_data[\"date\"] = pd.to_datetime(bit_data[\"Timestamp\"],unit='s').dt.date\n",
        "group= bit_data.groupby('date')\n",
        "data = group['Close'].mean()"
      ],
      "metadata": {
        "id": "woc08sQkbV2t"
      },
      "execution_count": null,
      "outputs": []
    },
    {
      "cell_type": "code",
      "source": [
        "data.head()"
      ],
      "metadata": {
        "colab": {
          "base_uri": "https://localhost:8080/"
        },
        "id": "2PV2_LrfcOuV",
        "outputId": "6a520f06-75f0-4a26-9f0f-e9006260e697"
      },
      "execution_count": null,
      "outputs": [
        {
          "output_type": "execute_result",
          "data": {
            "text/plain": [
              "date\n",
              "2011-12-31    4.482500\n",
              "2012-01-01    4.806667\n",
              "2012-01-02    5.000000\n",
              "2012-01-03    5.252500\n",
              "2012-01-04    5.223333\n",
              "Name: Close, dtype: float64"
            ]
          },
          "metadata": {},
          "execution_count": 18
        }
      ]
    },
    {
      "cell_type": "code",
      "source": [
        "data.shape"
      ],
      "metadata": {
        "colab": {
          "base_uri": "https://localhost:8080/"
        },
        "id": "vTRRzEpvchgx",
        "outputId": "755ad77b-be91-4837-96ce-74f8d491139b"
      },
      "execution_count": null,
      "outputs": [
        {
          "output_type": "execute_result",
          "data": {
            "text/plain": [
              "(2627,)"
            ]
          },
          "metadata": {},
          "execution_count": 20
        }
      ]
    },
    {
      "cell_type": "code",
      "source": [
        "data.isnull().sum()"
      ],
      "metadata": {
        "colab": {
          "base_uri": "https://localhost:8080/"
        },
        "id": "X6NsA8-TcjXN",
        "outputId": "c81ab84f-f53e-412d-aecb-0feead5adb00"
      },
      "execution_count": null,
      "outputs": [
        {
          "output_type": "execute_result",
          "data": {
            "text/plain": [
              "0"
            ]
          },
          "metadata": {},
          "execution_count": 33
        }
      ]
    },
    {
      "cell_type": "markdown",
      "source": [
        "Preparing Train and Test"
      ],
      "metadata": {
        "id": "KSzGXn0ocyiE"
      }
    },
    {
      "cell_type": "code",
      "source": [
        "close_train=data.iloc[:len(data)-50]\n",
        "close_test=data.iloc[len(close_train):]"
      ],
      "metadata": {
        "id": "juD8KCYycou4"
      },
      "execution_count": null,
      "outputs": []
    },
    {
      "cell_type": "markdown",
      "source": [
        "Scaling the data"
      ],
      "metadata": {
        "id": "2IoYEquwdVKT"
      }
    },
    {
      "cell_type": "code",
      "source": [
        "#feature scaling(set values between 0-1)\n",
        "close_train=np.array(close_train)\n",
        "close_train=close_train.reshape(close_train.shape[0],1)\n",
        "from sklearn.preprocessing import MinMaxScaler\n",
        "scaler=MinMaxScaler(feature_range=(0,1))\n",
        "close_scaled=scaler.fit_transform(close_train)"
      ],
      "metadata": {
        "id": "QmMWYTfEdTAe"
      },
      "execution_count": null,
      "outputs": []
    },
    {
      "cell_type": "markdown",
      "source": [
        "Lets choosw each 50 data as x-train and 51th as y-train"
      ],
      "metadata": {
        "id": "AGE5CSo_eQjE"
      }
    },
    {
      "cell_type": "code",
      "source": [
        "timestep = 50\n",
        "x_train = []\n",
        "y_train = []\n",
        "\n",
        "for i in range(timestep, close_scaled.shape[0]):\n",
        "    x_train.append(close_scaled[i-timestep:i, 0])\n",
        "    y_train.append(close_scaled[i, 0])\n",
        "\n",
        "x_train, y_train = np.array(x_train), np.array(y_train)\n",
        "x_train = x_train.reshape(x_train.shape[0], x_train.shape[1], 1)  # reshaped for RNN\n",
        "\n",
        "print(\"x_train shape =\", x_train.shape)\n",
        "print(\"y_train shape =\",y_train.shape)"
      ],
      "metadata": {
        "colab": {
          "base_uri": "https://localhost:8080/"
        },
        "id": "9dHOS6ynebAw",
        "outputId": "aeb715b6-4d9d-453b-e2b8-b5e2b01a3a03"
      },
      "execution_count": null,
      "outputs": [
        {
          "output_type": "stream",
          "name": "stdout",
          "text": [
            "x_train shape = (2527, 50, 1)\n",
            "y_train shape = (2527,)\n"
          ]
        }
      ]
    },
    {
      "cell_type": "code",
      "source": [
        "from keras.models import Sequential\n",
        "from keras.layers import Dense, SimpleRNN, Dropout, Flatten\n",
        "\n",
        "# Initialize the Sequential model\n",
        "regressor = Sequential()\n",
        "\n",
        "# First RNN layer\n",
        "regressor.add(SimpleRNN(128, activation=\"relu\", return_sequences=True, input_shape=(x_train.shape[1],1)))\n",
        "regressor.add(Dropout(0.25))\n",
        "\n",
        "# Second RNN layer\n",
        "regressor.add(SimpleRNN(256, activation=\"relu\", return_sequences=True))\n",
        "regressor.add(Dropout(0.25))\n",
        "\n",
        "# Third RNN layer\n",
        "regressor.add(SimpleRNN(512, activation=\"relu\", return_sequences=True))\n",
        "regressor.add(Dropout(0.35))\n",
        "\n",
        "# Fourth RNN layer\n",
        "regressor.add(SimpleRNN(256, activation=\"relu\", return_sequences=True))\n",
        "regressor.add(Dropout(0.25))\n",
        "\n",
        "# Fifth RNN layer\n",
        "regressor.add(SimpleRNN(128, activation=\"relu\", return_sequences=True))\n",
        "regressor.add(Dropout(0.25))\n",
        "\n",
        "# Convert the matrix to 1-line\n",
        "regressor.add(Flatten())\n",
        "\n",
        "# Output layer\n",
        "regressor.add(Dense(1))\n",
        "\n",
        "# Compile the model\n",
        "regressor.compile(optimizer=\"adam\", loss=\"mean_squared_error\")\n",
        "\n",
        "# Fit the model to the training data\n",
        "regressor.fit(x_train, y_train, epochs=30, batch_size=64)\n"
      ],
      "metadata": {
        "colab": {
          "base_uri": "https://localhost:8080/"
        },
        "id": "S0tCkRKxfpJx",
        "outputId": "9fd9d87b-0177-49ef-b4d9-f8b7e2ff1a80"
      },
      "execution_count": null,
      "outputs": [
        {
          "output_type": "stream",
          "name": "stdout",
          "text": [
            "Epoch 1/30\n",
            "40/40 [==============================] - 37s 553ms/step - loss: 0.0075\n",
            "Epoch 2/30\n",
            "40/40 [==============================] - 24s 599ms/step - loss: 0.0028\n",
            "Epoch 3/30\n",
            "40/40 [==============================] - 22s 552ms/step - loss: 0.0014\n",
            "Epoch 4/30\n",
            "40/40 [==============================] - 24s 595ms/step - loss: 0.0015\n",
            "Epoch 5/30\n",
            "40/40 [==============================] - 25s 628ms/step - loss: 0.0013\n",
            "Epoch 6/30\n",
            "40/40 [==============================] - 22s 547ms/step - loss: 9.7796e-04\n",
            "Epoch 7/30\n",
            "40/40 [==============================] - 24s 597ms/step - loss: 7.7627e-04\n",
            "Epoch 8/30\n",
            "40/40 [==============================] - 23s 575ms/step - loss: 0.0015\n",
            "Epoch 9/30\n",
            "40/40 [==============================] - 23s 564ms/step - loss: 8.7085e-04\n",
            "Epoch 10/30\n",
            "40/40 [==============================] - 24s 595ms/step - loss: 8.0795e-04\n",
            "Epoch 11/30\n",
            "40/40 [==============================] - 22s 547ms/step - loss: 6.7941e-04\n",
            "Epoch 12/30\n",
            "40/40 [==============================] - 24s 594ms/step - loss: 7.6992e-04\n",
            "Epoch 13/30\n",
            "40/40 [==============================] - 23s 567ms/step - loss: 0.0012\n",
            "Epoch 14/30\n",
            "40/40 [==============================] - 25s 631ms/step - loss: 7.3087e-04\n",
            "Epoch 15/30\n",
            "40/40 [==============================] - 26s 640ms/step - loss: 6.2152e-04\n",
            "Epoch 16/30\n",
            "40/40 [==============================] - 27s 675ms/step - loss: 5.1135e-04\n",
            "Epoch 17/30\n",
            "40/40 [==============================] - 23s 584ms/step - loss: 8.5503e-04\n",
            "Epoch 18/30\n",
            "40/40 [==============================] - 25s 620ms/step - loss: 6.3303e-04\n",
            "Epoch 19/30\n",
            "40/40 [==============================] - 23s 590ms/step - loss: 7.6904e-04\n",
            "Epoch 20/30\n",
            "40/40 [==============================] - 23s 579ms/step - loss: 6.2590e-04\n",
            "Epoch 21/30\n",
            "40/40 [==============================] - 24s 609ms/step - loss: 4.0205e-04\n",
            "Epoch 22/30\n",
            "40/40 [==============================] - 25s 617ms/step - loss: 4.9926e-04\n",
            "Epoch 23/30\n",
            "40/40 [==============================] - 24s 593ms/step - loss: 5.8577e-04\n",
            "Epoch 24/30\n",
            "40/40 [==============================] - 26s 649ms/step - loss: 5.4171e-04\n",
            "Epoch 25/30\n",
            "40/40 [==============================] - 23s 572ms/step - loss: 5.1273e-04\n",
            "Epoch 26/30\n",
            "40/40 [==============================] - 23s 579ms/step - loss: 4.0015e-04\n",
            "Epoch 27/30\n",
            "40/40 [==============================] - 25s 622ms/step - loss: 4.8695e-04\n",
            "Epoch 28/30\n",
            "40/40 [==============================] - 23s 584ms/step - loss: 6.9635e-04\n",
            "Epoch 29/30\n",
            "40/40 [==============================] - 25s 622ms/step - loss: 4.7764e-04\n",
            "Epoch 30/30\n",
            "40/40 [==============================] - 25s 626ms/step - loss: 4.4422e-04\n"
          ]
        },
        {
          "output_type": "execute_result",
          "data": {
            "text/plain": [
              "<keras.src.callbacks.History at 0x7f573b019150>"
            ]
          },
          "metadata": {},
          "execution_count": 34
        }
      ]
    },
    {
      "cell_type": "markdown",
      "source": [
        "Preparing our test set for prediction"
      ],
      "metadata": {
        "id": "NjCvDQP9htrK"
      }
    },
    {
      "cell_type": "code",
      "source": [
        "inputs=data[len(data)-len(close_test)-timestep:]\n",
        "inputs=inputs.values.reshape(-1,1)\n",
        "inputs=scaler.transform(inputs)"
      ],
      "metadata": {
        "id": "ZYvxOdkyhjqh"
      },
      "execution_count": null,
      "outputs": []
    },
    {
      "cell_type": "code",
      "source": [
        "x_test=[]\n",
        "for i in range(timestep,inputs.shape[0]):\n",
        "  x_test.append(inputs[i-timestep:i,0])\n",
        "x_test=np.array(x_test)\n",
        "x_test=x_test.reshape(x_test.shape[0],x_test.shape[1],1)"
      ],
      "metadata": {
        "id": "fJ_Bkat5ikXW"
      },
      "execution_count": null,
      "outputs": []
    },
    {
      "cell_type": "code",
      "source": [
        "predicted_data=regressorpredicted_data=regressor.predict(x_test)\n",
        "predicted_data=scaler.inverse_transform(predicted_data)"
      ],
      "metadata": {
        "colab": {
          "base_uri": "https://localhost:8080/"
        },
        "id": "oRLuxiOYij6S",
        "outputId": "b0bd4cd3-0d07-452f-c036-321719764136"
      },
      "execution_count": null,
      "outputs": [
        {
          "output_type": "stream",
          "name": "stdout",
          "text": [
            "2/2 [==============================] - 2s 119ms/step\n"
          ]
        }
      ]
    },
    {
      "cell_type": "code",
      "source": [
        "data_test=np.array(close_test)\n",
        "data_test=data_test.reshape(len(data_test),1)"
      ],
      "metadata": {
        "id": "tztSBOJe9eVL"
      },
      "execution_count": null,
      "outputs": []
    },
    {
      "cell_type": "code",
      "source": [
        "plt.figure(figsize=(8,4), dpi=80, facecolor='w', edgecolor='k')\n",
        "plt.plot(data_test, color=\"r\", label=\"true result\")\n",
        "plt.plot(predicted_data, color=\"b\", label=\"predicted result\")\n",
        "plt.legend()\n",
        "plt.xlabel(\"Time(50 days)\")\n",
        "plt.ylabel(\"Close Values\")\n",
        "plt.grid(True)\n",
        "plt.show()"
      ],
      "metadata": {
        "colab": {
          "base_uri": "https://localhost:8080/",
          "height": 311
        },
        "id": "jechFKN69gfy",
        "outputId": "fb568f7e-0b29-4cbb-febd-71083ed8995b"
      },
      "execution_count": null,
      "outputs": [
        {
          "output_type": "display_data",
          "data": {
            "text/plain": [
              "<Figure size 640x320 with 1 Axes>"
            ],
            "image/png": "[encoded data removed]"
          },
          "metadata": {}
        }
      ]
    },
    {
      "cell_type": "markdown",
      "source": [
        "LSTM"
      ],
      "metadata": {
        "id": "RXbWFXiO9kuJ"
      }
    },
    {
      "cell_type": "code",
      "source": [
        "from sklearn.metrics import mean_absolute_error\n",
        "from keras.models import Sequential\n",
        "from keras.layers import Dense, LSTM, Dropout, Flatten\n",
        "\n",
        "model=Sequential()\n",
        "model.add(LSTM (10, input_shape=(None, 1), activation=\"relu\"))\n",
        "model.add(Dense(1))\n",
        "model.compile(loss=\"mean_squared_error\", optimizer=\"adam\")\n",
        "model.fit(x_train, y_train, epochs=30, batch_size=32)"
      ],
      "metadata": {
        "colab": {
          "base_uri": "https://localhost:8080/"
        },
        "id": "HBDhRZZ49ij5",
        "outputId": "b3bef076-5982-4df6-e0b4-569fd3301605"
      },
      "execution_count": null,
      "outputs": [
        {
          "output_type": "stream",
          "name": "stdout",
          "text": [
            "Epoch 1/30\n",
            "79/79 [==============================] - 3s 21ms/step - loss: 0.0251\n",
            "Epoch 2/30\n",
            "79/79 [==============================] - 2s 25ms/step - loss: 0.0072\n",
            "Epoch 3/30\n",
            "79/79 [==============================] - 2s 24ms/step - loss: 0.0010\n",
            "Epoch 4/30\n",
            "79/79 [==============================] - 1s 16ms/step - loss: 3.5192e-04\n",
            "Epoch 5/30\n",
            "79/79 [==============================] - 1s 16ms/step - loss: 2.9992e-04\n",
            "Epoch 6/30\n",
            "79/79 [==============================] - 1s 19ms/step - loss: 2.7523e-04\n",
            "Epoch 7/30\n",
            "79/79 [==============================] - 1s 18ms/step - loss: 2.6376e-04\n",
            "Epoch 8/30\n",
            "79/79 [==============================] - 1s 16ms/step - loss: 2.5483e-04\n",
            "Epoch 9/30\n",
            "79/79 [==============================] - 1s 16ms/step - loss: 2.4271e-04\n",
            "Epoch 10/30\n",
            "79/79 [==============================] - 1s 16ms/step - loss: 2.3257e-04\n",
            "Epoch 11/30\n",
            "79/79 [==============================] - 2s 25ms/step - loss: 2.3073e-04\n",
            "Epoch 12/30\n",
            "79/79 [==============================] - 2s 29ms/step - loss: 2.2145e-04\n",
            "Epoch 13/30\n",
            "79/79 [==============================] - 2s 25ms/step - loss: 2.1350e-04\n",
            "Epoch 14/30\n",
            "79/79 [==============================] - 1s 19ms/step - loss: 2.1754e-04\n",
            "Epoch 15/30\n",
            "79/79 [==============================] - 1s 17ms/step - loss: 2.1759e-04\n",
            "Epoch 16/30\n",
            "79/79 [==============================] - 1s 16ms/step - loss: 2.1460e-04\n",
            "Epoch 17/30\n",
            "79/79 [==============================] - 1s 16ms/step - loss: 2.0299e-04\n",
            "Epoch 18/30\n",
            "79/79 [==============================] - 1s 16ms/step - loss: 2.0102e-04\n",
            "Epoch 19/30\n",
            "79/79 [==============================] - 1s 16ms/step - loss: 1.9785e-04\n",
            "Epoch 20/30\n",
            "79/79 [==============================] - 1s 16ms/step - loss: 2.0156e-04\n",
            "Epoch 21/30\n",
            "79/79 [==============================] - 2s 21ms/step - loss: 1.9291e-04\n",
            "Epoch 22/30\n",
            "79/79 [==============================] - 2s 25ms/step - loss: 1.9287e-04\n",
            "Epoch 23/30\n",
            "79/79 [==============================] - 2s 22ms/step - loss: 1.8960e-04\n",
            "Epoch 24/30\n",
            "79/79 [==============================] - 1s 16ms/step - loss: 1.8224e-04\n",
            "Epoch 25/30\n",
            "79/79 [==============================] - 1s 16ms/step - loss: 1.8416e-04\n",
            "Epoch 26/30\n",
            "79/79 [==============================] - 1s 16ms/step - loss: 1.8500e-04\n",
            "Epoch 27/30\n",
            "79/79 [==============================] - 1s 16ms/step - loss: 1.7720e-04\n",
            "Epoch 28/30\n",
            "79/79 [==============================] - 1s 16ms/step - loss: 1.7731e-04\n",
            "Epoch 29/30\n",
            "79/79 [==============================] - 1s 16ms/step - loss: 1.7677e-04\n",
            "Epoch 30/30\n",
            "79/79 [==============================] - 1s 16ms/step - loss: 1.8428e-04\n"
          ]
        },
        {
          "output_type": "execute_result",
          "data": {
            "text/plain": [
              "<keras.src.callbacks.History at 0x7f5728b84370>"
            ]
          },
          "metadata": {},
          "execution_count": 42
        }
      ]
    },
    {
      "cell_type": "code",
      "source": [
        "inputs=data[len(data)-len(close_test)-timestep:]\n",
        "inputs=inputs.values.reshape(-1,1)\n",
        "inputs=scaler.transform(inputs)"
      ],
      "metadata": {
        "id": "3S8gt-nO9nc1"
      },
      "execution_count": null,
      "outputs": []
    },
    {
      "cell_type": "code",
      "source": [
        "x_test=[]\n",
        "for i in range(timestep,inputs.shape[0]):\n",
        "  x_test.append(inputs[i-timestep:i,0])\n",
        "x_test=np.array(x_test)\n",
        "x_test.reshape(x_test.shape[0],x_test.shape[1],1)\n"
      ],
      "metadata": {
        "colab": {
          "base_uri": "https://localhost:8080/"
        },
        "id": "R1GeH-qq-IdH",
        "outputId": "275fe3d3-a37a-4f14-bd69-4eb54ac960dc"
      },
      "execution_count": null,
      "outputs": [
        {
          "output_type": "execute_result",
          "data": {
            "text/plain": [
              "array([[[0.20329532],\n",
              "        [0.19796062],\n",
              "        [0.19233292],\n",
              "        ...,\n",
              "        [0.18744551],\n",
              "        [0.18407395],\n",
              "        [0.18491251]],\n",
              "\n",
              "       [[0.19796062],\n",
              "        [0.19233292],\n",
              "        [0.17490842],\n",
              "        ...,\n",
              "        [0.18407395],\n",
              "        [0.18491251],\n",
              "        [0.18579354]],\n",
              "\n",
              "       [[0.19233292],\n",
              "        [0.17490842],\n",
              "        [0.17622168],\n",
              "        ...,\n",
              "        [0.18491251],\n",
              "        [0.18579354],\n",
              "        [0.18503633]],\n",
              "\n",
              "       ...,\n",
              "\n",
              "       [[0.18744551],\n",
              "        [0.18407395],\n",
              "        [0.18491251],\n",
              "        ...,\n",
              "        [0.20158925],\n",
              "        [0.20259503],\n",
              "        [0.20266807]],\n",
              "\n",
              "       [[0.18407395],\n",
              "        [0.18491251],\n",
              "        [0.18579354],\n",
              "        ...,\n",
              "        [0.20259503],\n",
              "        [0.20266807],\n",
              "        [0.20111549]],\n",
              "\n",
              "       [[0.18491251],\n",
              "        [0.18579354],\n",
              "        [0.18503633],\n",
              "        ...,\n",
              "        [0.20266807],\n",
              "        [0.20111549],\n",
              "        [0.20030227]]])"
            ]
          },
          "metadata": {},
          "execution_count": 45
        }
      ]
    },
    {
      "cell_type": "code",
      "source": [
        "predicted_data=regressor.predict(x_train)\n",
        "predicted_data=scaler.inverse_transform(predicted_data)"
      ],
      "metadata": {
        "colab": {
          "base_uri": "https://localhost:8080/"
        },
        "id": "GVF6HnEG-KmK",
        "outputId": "bb6f439d-4715-45da-d17a-11d2837a4a16"
      },
      "execution_count": null,
      "outputs": [
        {
          "output_type": "stream",
          "name": "stdout",
          "text": [
            "79/79 [==============================] - 11s 136ms/step\n"
          ]
        }
      ]
    },
    {
      "cell_type": "code",
      "source": [
        "data_test=np.array(close_test)\n",
        "data_test=data_test.reshape(len(data_test),1)"
      ],
      "metadata": {
        "id": "nS5rEHLV-r3a"
      },
      "execution_count": null,
      "outputs": []
    },
    {
      "cell_type": "code",
      "source": [
        "plt.figure(figsize=(8,4), dpi=80, facecolor='w', edgecolor='k')\n",
        "plt.plot(data_test,color=\"r\", label=\"true result\")\n",
        "plt.plot(predicted_data,color=\"b\", label=\"predicted result\")\n",
        "plt.legend()\n",
        "plt.xlabel(\"Time(50 days)\")\n",
        "plt.ylabel(\"Close Values\")\n",
        "plt.grid(True)\n",
        "plt.show()"
      ],
      "metadata": {
        "colab": {
          "base_uri": "https://localhost:8080/",
          "height": 311
        },
        "id": "v2p6lw07-wjy",
        "outputId": "8d16e213-6163-42ac-9353-21befc1942da"
      },
      "execution_count": null,
      "outputs": [
        {
          "output_type": "display_data",
          "data": {
            "text/plain": [
              "<Figure size 640x320 with 1 Axes>"
            ],
            "image/png": "[encoded data removed]"
          },
          "metadata": {}
        }
      ]
    },
    {
      "cell_type": "markdown",
      "source": [
        "LSTM"
      ],
      "metadata": {
        "id": "Vw6noP_W-19E"
      }
    },
    {
      "cell_type": "code",
      "source": [
        "from sklearn.metrics import mean_absolute_error\n",
        "from keras.models import Sequential\n",
        "from keras.layers import Dense, LSTM, Dropout, Flatten\n",
        "\n",
        "model=Sequential()\n",
        "model.add(LSTM (10, input_shape=(None, 1), activation=\"relu\"))\n",
        "model.add(Dense (1))\n",
        "model.compile(loss=\"mean_squared_error\", optimizer=\"adam\")\n",
        "model.fit(x_train,y_train, epochs=30, batch_size=32)"
      ],
      "metadata": {
        "colab": {
          "base_uri": "https://localhost:8080/"
        },
        "id": "i5aIDYSs-yM6",
        "outputId": "2f64bf77-0869-4b99-a40f-58b2a297ad2d"
      },
      "execution_count": null,
      "outputs": [
        {
          "output_type": "stream",
          "name": "stdout",
          "text": [
            "Epoch 1/30\n",
            "79/79 [==============================] - 5s 30ms/step - loss: 0.0234\n",
            "Epoch 2/30\n",
            "79/79 [==============================] - 3s 40ms/step - loss: 0.0023\n",
            "Epoch 3/30\n",
            "79/79 [==============================] - 3s 40ms/step - loss: 8.7807e-04\n",
            "Epoch 4/30\n",
            "79/79 [==============================] - 2s 31ms/step - loss: 7.2163e-04\n",
            "Epoch 5/30\n",
            "79/79 [==============================] - 2s 30ms/step - loss: 5.7541e-04\n",
            "Epoch 6/30\n",
            "79/79 [==============================] - 3s 32ms/step - loss: 4.9425e-04\n",
            "Epoch 7/30\n",
            "79/79 [==============================] - 3s 32ms/step - loss: 4.5181e-04\n",
            "Epoch 8/30\n",
            "79/79 [==============================] - 4s 56ms/step - loss: 4.1169e-04\n",
            "Epoch 9/30\n",
            "79/79 [==============================] - 2s 29ms/step - loss: 3.8064e-04\n",
            "Epoch 10/30\n",
            "79/79 [==============================] - 1s 18ms/step - loss: 3.6589e-04\n",
            "Epoch 11/30\n",
            "79/79 [==============================] - 1s 16ms/step - loss: 3.3089e-04\n",
            "Epoch 12/30\n",
            "79/79 [==============================] - 1s 15ms/step - loss: 3.6854e-04\n",
            "Epoch 13/30\n",
            "79/79 [==============================] - 1s 15ms/step - loss: 3.2352e-04\n",
            "Epoch 14/30\n",
            "79/79 [==============================] - 1s 16ms/step - loss: 3.0325e-04\n",
            "Epoch 15/30\n",
            "79/79 [==============================] - 1s 16ms/step - loss: 3.1335e-04\n",
            "Epoch 16/30\n",
            "79/79 [==============================] - 2s 24ms/step - loss: 3.1117e-04\n",
            "Epoch 17/30\n",
            "79/79 [==============================] - 2s 24ms/step - loss: 2.8970e-04\n",
            "Epoch 18/30\n",
            "79/79 [==============================] - 2s 20ms/step - loss: 2.7600e-04\n",
            "Epoch 19/30\n",
            "79/79 [==============================] - 1s 15ms/step - loss: 2.7003e-04\n",
            "Epoch 20/30\n",
            "79/79 [==============================] - 1s 16ms/step - loss: 2.7784e-04\n",
            "Epoch 21/30\n",
            "79/79 [==============================] - 1s 16ms/step - loss: 2.6291e-04\n",
            "Epoch 22/30\n",
            "79/79 [==============================] - 1s 16ms/step - loss: 2.5949e-04\n",
            "Epoch 23/30\n",
            "79/79 [==============================] - 1s 16ms/step - loss: 2.4900e-04\n",
            "Epoch 24/30\n",
            "79/79 [==============================] - 1s 16ms/step - loss: 2.4753e-04\n",
            "Epoch 25/30\n",
            "79/79 [==============================] - 1s 16ms/step - loss: 2.3891e-04\n",
            "Epoch 26/30\n",
            "79/79 [==============================] - 2s 21ms/step - loss: 2.3876e-04\n",
            "Epoch 27/30\n",
            "79/79 [==============================] - 2s 25ms/step - loss: 2.1711e-04\n",
            "Epoch 28/30\n",
            "79/79 [==============================] - 2s 22ms/step - loss: 2.0910e-04\n",
            "Epoch 29/30\n",
            "79/79 [==============================] - 1s 16ms/step - loss: 1.9959e-04\n",
            "Epoch 30/30\n",
            "79/79 [==============================] - 1s 16ms/step - loss: 2.1472e-04\n"
          ]
        },
        {
          "output_type": "execute_result",
          "data": {
            "text/plain": [
              "<keras.src.callbacks.History at 0x7f5719f98c70>"
            ]
          },
          "metadata": {},
          "execution_count": 51
        }
      ]
    },
    {
      "cell_type": "code",
      "source": [
        "inputs=data[len(data)-len(close_test)-timestep:]\n",
        "inputs=inputs.values.reshape(-1,1)\n",
        "inputs=scaler.transform(inputs)"
      ],
      "metadata": {
        "id": "xR5Tzp6L-6VU"
      },
      "execution_count": null,
      "outputs": []
    },
    {
      "cell_type": "code",
      "source": [
        "x_test=[]\n",
        "for i in range(timestep,inputs.shape[0]):\n",
        "  x_test.append(inputs[i-timestep:i,0])\n",
        "x_test=np.array(x_test)\n",
        "x_test.reshape(x_test.shape[0],x_test.shape[1],1)\n"
      ],
      "metadata": {
        "colab": {
          "base_uri": "https://localhost:8080/"
        },
        "id": "Fni78gGr-_0J",
        "outputId": "09a29487-f737-48cd-b402-9fc09f94fe9a"
      },
      "execution_count": null,
      "outputs": [
        {
          "output_type": "execute_result",
          "data": {
            "text/plain": [
              "array([[[0.20329532],\n",
              "        [0.19796062],\n",
              "        [0.19233292],\n",
              "        ...,\n",
              "        [0.18744551],\n",
              "        [0.18407395],\n",
              "        [0.18491251]],\n",
              "\n",
              "       [[0.19796062],\n",
              "        [0.19233292],\n",
              "        [0.17490842],\n",
              "        ...,\n",
              "        [0.18407395],\n",
              "        [0.18491251],\n",
              "        [0.18579354]],\n",
              "\n",
              "       [[0.19233292],\n",
              "        [0.17490842],\n",
              "        [0.17622168],\n",
              "        ...,\n",
              "        [0.18491251],\n",
              "        [0.18579354],\n",
              "        [0.18503633]],\n",
              "\n",
              "       ...,\n",
              "\n",
              "       [[0.18744551],\n",
              "        [0.18407395],\n",
              "        [0.18491251],\n",
              "        ...,\n",
              "        [0.20158925],\n",
              "        [0.20259503],\n",
              "        [0.20266807]],\n",
              "\n",
              "       [[0.18407395],\n",
              "        [0.18491251],\n",
              "        [0.18579354],\n",
              "        ...,\n",
              "        [0.20259503],\n",
              "        [0.20266807],\n",
              "        [0.20111549]],\n",
              "\n",
              "       [[0.18491251],\n",
              "        [0.18579354],\n",
              "        [0.18503633],\n",
              "        ...,\n",
              "        [0.20266807],\n",
              "        [0.20111549],\n",
              "        [0.20030227]]])"
            ]
          },
          "metadata": {},
          "execution_count": 58
        }
      ]
    },
    {
      "cell_type": "markdown",
      "source": [
        "Its Time to Predict"
      ],
      "metadata": {
        "id": "91AZzlht_FGr"
      }
    },
    {
      "cell_type": "code",
      "source": [
        "predicted_data=model.predict(x_test)\n",
        "predicted_data=scaler.inverse_transform(predicted_data)"
      ],
      "metadata": {
        "colab": {
          "base_uri": "https://localhost:8080/"
        },
        "id": "iSgS5oRy_Fq3",
        "outputId": "856b943d-f9e4-46e4-e808-a528ad5319e8"
      },
      "execution_count": null,
      "outputs": [
        {
          "output_type": "stream",
          "name": "stdout",
          "text": [
            "2/2 [==============================] - 0s 16ms/step\n"
          ]
        }
      ]
    },
    {
      "cell_type": "code",
      "source": [
        "data_test=np.array(close_test)\n",
        "data_test=data_test.reshape(len(data_test),1)"
      ],
      "metadata": {
        "id": "ZORQdqH0_0Nn"
      },
      "execution_count": null,
      "outputs": []
    },
    {
      "cell_type": "code",
      "source": [
        "plt.figure(figsize=(8,4), dpi=80, facecolor='w', edgecolor='k')\n",
        "plt.plot(data_test,color=\"r\", label=\"true result\")\n",
        "plt.plot(predicted_data,color=\"b\", label=\"predicted result\")\n",
        "plt.legend()\n",
        "plt.xlabel(\"Time(50 days)\")"
      ],
      "metadata": {
        "colab": {
          "base_uri": "https://localhost:8080/",
          "height": 328
        },
        "id": "UcVv9-J1_3M3",
        "outputId": "40770837-f02f-45fe-a144-16e444a00046"
      },
      "execution_count": null,
      "outputs": [
        {
          "output_type": "execute_result",
          "data": {
            "text/plain": [
              "Text(0.5, 0, 'Time(50 days)')"
            ]
          },
          "metadata": {},
          "execution_count": 62
        },
        {
          "output_type": "display_data",
          "data": {
            "text/plain": [
              "<Figure size 640x320 with 1 Axes>"
            ],
            "image/png": "[encoded data removed]"
          },
          "metadata": {}
        }
      ]
    },
    {
      "cell_type": "code",
      "source": [],
      "metadata": {
        "id": "CcaIj1QCBbGo"
      },
      "execution_count": null,
      "outputs": []
    }
  ]
}